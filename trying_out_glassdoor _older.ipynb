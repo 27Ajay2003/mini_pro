{
 "cells": [
  {
   "cell_type": "code",
   "execution_count": 1,
   "id": "d0963e3a",
   "metadata": {},
   "outputs": [],
   "source": [
    "import pandas as pd"
   ]
  },
  {
   "cell_type": "code",
   "execution_count": 2,
   "id": "670caa98",
   "metadata": {},
   "outputs": [],
   "source": [
    "df=pd.read_csv(\"/home/ajay/Python Developer.csv\")"
   ]
  },
  {
   "cell_type": "code",
   "execution_count": null,
   "id": "0ffa44d6",
   "metadata": {},
   "outputs": [],
   "source": []
  },
  {
   "cell_type": "code",
   "execution_count": 3,
   "id": "9f6e8a57",
   "metadata": {},
   "outputs": [],
   "source": [
    "df_sal=df[[\"salary estimate\"]]"
   ]
  },
  {
   "cell_type": "code",
   "execution_count": 4,
   "id": "37d6a5c4",
   "metadata": {},
   "outputs": [],
   "source": [
    "df_sal=df_sal.dropna()"
   ]
  },
  {
   "cell_type": "code",
   "execution_count": 5,
   "id": "2feadabe",
   "metadata": {},
   "outputs": [],
   "source": [
    "salaries=df_sal[\"salary estimate\"]"
   ]
  },
  {
   "cell_type": "code",
   "execution_count": 6,
   "id": "e75fe6c1",
   "metadata": {},
   "outputs": [],
   "source": [
    "salaries=list(salaries)"
   ]
  },
  {
   "cell_type": "code",
   "execution_count": 7,
   "id": "e01a9ffd",
   "metadata": {},
   "outputs": [
    {
     "data": {
      "text/plain": [
       "['₹16,00,000 /yr (est.)',\n",
       " '₹21,50,000 /yr (est.)',\n",
       " '₹1,615.38 /hr (est.)',\n",
       " '₹1,00,000 /mo (est.)',\n",
       " '₹24,000 /mo (est.)',\n",
       " '₹3,00,000 /yr (est.)',\n",
       " '₹47,500 /mo (est.)',\n",
       " '₹17,50,000 /yr (est.)',\n",
       " '₹38,138 /mo (est.)',\n",
       " '₹7,50,000 /yr (est.)',\n",
       " '₹45,000 /mo (est.)',\n",
       " '₹27,500 /mo (est.)',\n",
       " '₹13,36,825 /yr (est.)',\n",
       " '₹21,50,000 /yr (est.)',\n",
       " '₹10,50,000 /yr (est.)',\n",
       " '₹12,67,095 /yr (est.)',\n",
       " '₹17,50,000 /yr (est.)',\n",
       " '₹8,00,000 /yr (est.)',\n",
       " '₹7,00,000 /yr (est.)',\n",
       " '₹20,00,000 /yr (est.)',\n",
       " '₹17,50,000 /yr (est.)',\n",
       " '₹24,00,000 /yr (est.)',\n",
       " '₹15,60,000 /yr (est.)',\n",
       " '₹4,75,000 /yr (est.)',\n",
       " '₹15,000 /mo (est.)',\n",
       " '₹8,07,976 /yr (est.)',\n",
       " '₹17,50,000 /yr (est.)',\n",
       " '₹11,50,000 /yr (est.)',\n",
       " '₹17,50,000 /yr (est.)',\n",
       " '₹17,50,000 /yr (est.)',\n",
       " '₹8,50,000 /yr (est.)',\n",
       " '₹17,50,000 /yr (est.)',\n",
       " '₹11,50,000 /yr (est.)',\n",
       " '₹10,00,000 /yr (est.)',\n",
       " '₹8,07,976 /yr (est.)',\n",
       " '₹30,00,000 /yr (est.)']"
      ]
     },
     "execution_count": 7,
     "metadata": {},
     "output_type": "execute_result"
    }
   ],
   "source": [
    "salaries"
   ]
  },
  {
   "cell_type": "code",
   "execution_count": 8,
   "id": "476ae383",
   "metadata": {},
   "outputs": [
    {
     "name": "stdout",
     "output_type": "stream",
     "text": [
      "[16.0, 21.5, 38.77, 12.0, 2.88, 3.0, 5.7, 17.5, 4.58, 7.5, 5.4, 3.3, 13.37, 21.5, 10.5, 12.67, 17.5, 8.0, 7.0, 20.0, 17.5, 24.0, 15.6, 4.75, 1.8, 8.08, 17.5, 11.5, 17.5, 17.5, 8.5, 17.5, 11.5, 10.0, 8.08, 30.0]\n"
     ]
    }
   ],
   "source": [
    "def convert_salary_to_lpa(salary_str):\n",
    "    salary = salary_str.split()[0]\n",
    "    if 'mo' in salary_str:\n",
    "        return round(float(salary.replace(',', '')[1:]) * 12 / 100000, 2)\n",
    "    elif 'yr' in salary_str:\n",
    "        return round(float(salary.replace(',', '')[1:]) / 100000, 2)\n",
    "    elif '/hr' in salary_str:\n",
    "        return round(float(salary.replace(',', '')[1:]) * 8 * 300 / 100000, 2)  # Assuming 8 hours of work per day and 300 working days per year\n",
    "    else:\n",
    "        return None\n",
    "lpa_salaries = [convert_salary_to_lpa(salary) for salary in salaries]\n",
    "print(lpa_salaries)    \n",
    "    \n",
    "    "
   ]
  },
  {
   "cell_type": "code",
   "execution_count": 9,
   "id": "c5ae5d04",
   "metadata": {},
   "outputs": [
    {
     "name": "stdout",
     "output_type": "stream",
     "text": [
      "[133.33, 179.17, 32.31, 100.0, 24.0, 25.0, 47.5, 145.83, 38.14, 62.5, 45.0, 27.5, 111.4, 179.17, 87.5, 105.59, 145.83, 66.67, 58.33, 166.67, 145.83, 200.0, 130.0, 39.58, 15.0, 67.33, 145.83, 95.83, 145.83, 145.83, 70.83, 145.83, 95.83, 83.33, 67.33, 250.0]\n"
     ]
    }
   ],
   "source": [
    "def convert_salary_to_thousands_per_month(salary_str):\n",
    "    salary = salary_str.split()[0]\n",
    "    if 'mo' in salary_str:\n",
    "        return round(float(salary.replace(',', '')[1:]) / 1000, 2)\n",
    "    elif 'yr' in salary_str:\n",
    "        return round(float(salary.replace(',', '')[1:]) / 12000, 2)\n",
    "    elif '/hr' in salary_str:\n",
    "        return round(float(salary.replace(',', '')[1:]) * 8 * 300 / 120000, 2)  # Assuming 8 hours of work per day and 300 working days per year\n",
    "    else:\n",
    "        return None\n",
    "\n",
    "salaries_in_thousands_per_month = [convert_salary_to_thousands_per_month(salary) for salary in salaries]\n",
    "print(salaries_in_thousands_per_month)"
   ]
  },
  {
   "cell_type": "code",
   "execution_count": 10,
   "id": "538d43eb",
   "metadata": {},
   "outputs": [],
   "source": [
    "df=df.drop([\"salary estimate\"],axis=1)"
   ]
  },
  {
   "cell_type": "code",
   "execution_count": 11,
   "id": "6912ffd1",
   "metadata": {},
   "outputs": [
    {
     "data": {
      "text/html": [
       "<div>\n",
       "<style scoped>\n",
       "    .dataframe tbody tr th:only-of-type {\n",
       "        vertical-align: middle;\n",
       "    }\n",
       "\n",
       "    .dataframe tbody tr th {\n",
       "        vertical-align: top;\n",
       "    }\n",
       "\n",
       "    .dataframe thead th {\n",
       "        text-align: right;\n",
       "    }\n",
       "</style>\n",
       "<table border=\"1\" class=\"dataframe\">\n",
       "  <thead>\n",
       "    <tr style=\"text-align: right;\">\n",
       "      <th></th>\n",
       "      <th>company</th>\n",
       "      <th>job title</th>\n",
       "      <th>location</th>\n",
       "      <th>job description</th>\n",
       "    </tr>\n",
       "  </thead>\n",
       "  <tbody>\n",
       "    <tr>\n",
       "      <th>0</th>\n",
       "      <td>PST.AG\\n4.5</td>\n",
       "      <td>Python Developer (Oddo Experience)</td>\n",
       "      <td>Remote</td>\n",
       "      <td>We are a growing medium-sized business with he...</td>\n",
       "    </tr>\n",
       "    <tr>\n",
       "      <th>1</th>\n",
       "      <td>Clark Technology</td>\n",
       "      <td>Remote Python/Django &amp; React Developer</td>\n",
       "      <td>Remote</td>\n",
       "      <td>We are looking for a skilled and experienced r...</td>\n",
       "    </tr>\n",
       "    <tr>\n",
       "      <th>2</th>\n",
       "      <td>Oneplay</td>\n",
       "      <td>Python Developer</td>\n",
       "      <td>Remote</td>\n",
       "      <td>What you’ll work on\\nWorking with the Team in ...</td>\n",
       "    </tr>\n",
       "    <tr>\n",
       "      <th>3</th>\n",
       "      <td>American Chase LLP</td>\n",
       "      <td>Sr. Python Developer</td>\n",
       "      <td>Remote</td>\n",
       "      <td>Job Title: Senior Python Developer\\nLocation: ...</td>\n",
       "    </tr>\n",
       "    <tr>\n",
       "      <th>4</th>\n",
       "      <td>Vienna Consultancy Services</td>\n",
       "      <td>Python Developer</td>\n",
       "      <td>Remote</td>\n",
       "      <td>We are looking for a candidate who can support...</td>\n",
       "    </tr>\n",
       "    <tr>\n",
       "      <th>...</th>\n",
       "      <td>...</td>\n",
       "      <td>...</td>\n",
       "      <td>...</td>\n",
       "      <td>...</td>\n",
       "    </tr>\n",
       "    <tr>\n",
       "      <th>85</th>\n",
       "      <td>DiligenceVault\\n3.8</td>\n",
       "      <td>Back-end Engineer</td>\n",
       "      <td>Remote</td>\n",
       "      <td>DiligenceVault is a cloud-based digital dilige...</td>\n",
       "    </tr>\n",
       "    <tr>\n",
       "      <th>86</th>\n",
       "      <td>Wiser Solutions\\n4.4</td>\n",
       "      <td>Associate Software Engineer - Extraction</td>\n",
       "      <td>Remote</td>\n",
       "      <td>Wiser provides unparalleled consumer insights ...</td>\n",
       "    </tr>\n",
       "    <tr>\n",
       "      <th>87</th>\n",
       "      <td>Techolution\\n4.4</td>\n",
       "      <td>Senior Python Developer</td>\n",
       "      <td>Remote</td>\n",
       "      <td>Job Description\\nTecholution is looking out fo...</td>\n",
       "    </tr>\n",
       "    <tr>\n",
       "      <th>88</th>\n",
       "      <td>Leegality\\n5.0</td>\n",
       "      <td>Python Developer</td>\n",
       "      <td>Remote</td>\n",
       "      <td>This is a remote position.\\nCompany Mission\\n\\...</td>\n",
       "    </tr>\n",
       "    <tr>\n",
       "      <th>89</th>\n",
       "      <td>Marktine Technology Solutions\\n4.7</td>\n",
       "      <td>Python Developer</td>\n",
       "      <td>Remote</td>\n",
       "      <td>Job Information\\nIndustry\\nIT Services\\nRemote...</td>\n",
       "    </tr>\n",
       "  </tbody>\n",
       "</table>\n",
       "<p>90 rows × 4 columns</p>\n",
       "</div>"
      ],
      "text/plain": [
       "                               company  \\\n",
       "0                          PST.AG\\n4.5   \n",
       "1                     Clark Technology   \n",
       "2                              Oneplay   \n",
       "3                   American Chase LLP   \n",
       "4          Vienna Consultancy Services   \n",
       "..                                 ...   \n",
       "85                 DiligenceVault\\n3.8   \n",
       "86                Wiser Solutions\\n4.4   \n",
       "87                    Techolution\\n4.4   \n",
       "88                      Leegality\\n5.0   \n",
       "89  Marktine Technology Solutions\\n4.7   \n",
       "\n",
       "                                   job title location  \\\n",
       "0         Python Developer (Oddo Experience)   Remote   \n",
       "1     Remote Python/Django & React Developer   Remote   \n",
       "2                           Python Developer   Remote   \n",
       "3                       Sr. Python Developer   Remote   \n",
       "4                           Python Developer   Remote   \n",
       "..                                       ...      ...   \n",
       "85                         Back-end Engineer   Remote   \n",
       "86  Associate Software Engineer - Extraction   Remote   \n",
       "87                   Senior Python Developer   Remote   \n",
       "88                          Python Developer   Remote   \n",
       "89                          Python Developer   Remote   \n",
       "\n",
       "                                      job description  \n",
       "0   We are a growing medium-sized business with he...  \n",
       "1   We are looking for a skilled and experienced r...  \n",
       "2   What you’ll work on\\nWorking with the Team in ...  \n",
       "3   Job Title: Senior Python Developer\\nLocation: ...  \n",
       "4   We are looking for a candidate who can support...  \n",
       "..                                                ...  \n",
       "85  DiligenceVault is a cloud-based digital dilige...  \n",
       "86  Wiser provides unparalleled consumer insights ...  \n",
       "87  Job Description\\nTecholution is looking out fo...  \n",
       "88  This is a remote position.\\nCompany Mission\\n\\...  \n",
       "89  Job Information\\nIndustry\\nIT Services\\nRemote...  \n",
       "\n",
       "[90 rows x 4 columns]"
      ]
     },
     "execution_count": 11,
     "metadata": {},
     "output_type": "execute_result"
    }
   ],
   "source": [
    "df"
   ]
  },
  {
   "cell_type": "code",
   "execution_count": 12,
   "id": "eacacfb5",
   "metadata": {},
   "outputs": [
    {
     "data": {
      "text/plain": [
       "90"
      ]
     },
     "execution_count": 12,
     "metadata": {},
     "output_type": "execute_result"
    }
   ],
   "source": [
    "len(df)"
   ]
  },
  {
   "cell_type": "code",
   "execution_count": 13,
   "id": "975fbaa0",
   "metadata": {},
   "outputs": [],
   "source": [
    "df=df.dropna()"
   ]
  },
  {
   "cell_type": "code",
   "execution_count": 14,
   "id": "47c9b0bf",
   "metadata": {},
   "outputs": [
    {
     "data": {
      "text/html": [
       "<div>\n",
       "<style scoped>\n",
       "    .dataframe tbody tr th:only-of-type {\n",
       "        vertical-align: middle;\n",
       "    }\n",
       "\n",
       "    .dataframe tbody tr th {\n",
       "        vertical-align: top;\n",
       "    }\n",
       "\n",
       "    .dataframe thead th {\n",
       "        text-align: right;\n",
       "    }\n",
       "</style>\n",
       "<table border=\"1\" class=\"dataframe\">\n",
       "  <thead>\n",
       "    <tr style=\"text-align: right;\">\n",
       "      <th></th>\n",
       "      <th>company</th>\n",
       "      <th>job title</th>\n",
       "      <th>location</th>\n",
       "      <th>job description</th>\n",
       "    </tr>\n",
       "  </thead>\n",
       "  <tbody>\n",
       "    <tr>\n",
       "      <th>0</th>\n",
       "      <td>PST.AG\\n4.5</td>\n",
       "      <td>Python Developer (Oddo Experience)</td>\n",
       "      <td>Remote</td>\n",
       "      <td>We are a growing medium-sized business with he...</td>\n",
       "    </tr>\n",
       "    <tr>\n",
       "      <th>1</th>\n",
       "      <td>Clark Technology</td>\n",
       "      <td>Remote Python/Django &amp; React Developer</td>\n",
       "      <td>Remote</td>\n",
       "      <td>We are looking for a skilled and experienced r...</td>\n",
       "    </tr>\n",
       "    <tr>\n",
       "      <th>2</th>\n",
       "      <td>Oneplay</td>\n",
       "      <td>Python Developer</td>\n",
       "      <td>Remote</td>\n",
       "      <td>What you’ll work on\\nWorking with the Team in ...</td>\n",
       "    </tr>\n",
       "    <tr>\n",
       "      <th>3</th>\n",
       "      <td>American Chase LLP</td>\n",
       "      <td>Sr. Python Developer</td>\n",
       "      <td>Remote</td>\n",
       "      <td>Job Title: Senior Python Developer\\nLocation: ...</td>\n",
       "    </tr>\n",
       "    <tr>\n",
       "      <th>4</th>\n",
       "      <td>Vienna Consultancy Services</td>\n",
       "      <td>Python Developer</td>\n",
       "      <td>Remote</td>\n",
       "      <td>We are looking for a candidate who can support...</td>\n",
       "    </tr>\n",
       "    <tr>\n",
       "      <th>...</th>\n",
       "      <td>...</td>\n",
       "      <td>...</td>\n",
       "      <td>...</td>\n",
       "      <td>...</td>\n",
       "    </tr>\n",
       "    <tr>\n",
       "      <th>85</th>\n",
       "      <td>DiligenceVault\\n3.8</td>\n",
       "      <td>Back-end Engineer</td>\n",
       "      <td>Remote</td>\n",
       "      <td>DiligenceVault is a cloud-based digital dilige...</td>\n",
       "    </tr>\n",
       "    <tr>\n",
       "      <th>86</th>\n",
       "      <td>Wiser Solutions\\n4.4</td>\n",
       "      <td>Associate Software Engineer - Extraction</td>\n",
       "      <td>Remote</td>\n",
       "      <td>Wiser provides unparalleled consumer insights ...</td>\n",
       "    </tr>\n",
       "    <tr>\n",
       "      <th>87</th>\n",
       "      <td>Techolution\\n4.4</td>\n",
       "      <td>Senior Python Developer</td>\n",
       "      <td>Remote</td>\n",
       "      <td>Job Description\\nTecholution is looking out fo...</td>\n",
       "    </tr>\n",
       "    <tr>\n",
       "      <th>88</th>\n",
       "      <td>Leegality\\n5.0</td>\n",
       "      <td>Python Developer</td>\n",
       "      <td>Remote</td>\n",
       "      <td>This is a remote position.\\nCompany Mission\\n\\...</td>\n",
       "    </tr>\n",
       "    <tr>\n",
       "      <th>89</th>\n",
       "      <td>Marktine Technology Solutions\\n4.7</td>\n",
       "      <td>Python Developer</td>\n",
       "      <td>Remote</td>\n",
       "      <td>Job Information\\nIndustry\\nIT Services\\nRemote...</td>\n",
       "    </tr>\n",
       "  </tbody>\n",
       "</table>\n",
       "<p>90 rows × 4 columns</p>\n",
       "</div>"
      ],
      "text/plain": [
       "                               company  \\\n",
       "0                          PST.AG\\n4.5   \n",
       "1                     Clark Technology   \n",
       "2                              Oneplay   \n",
       "3                   American Chase LLP   \n",
       "4          Vienna Consultancy Services   \n",
       "..                                 ...   \n",
       "85                 DiligenceVault\\n3.8   \n",
       "86                Wiser Solutions\\n4.4   \n",
       "87                    Techolution\\n4.4   \n",
       "88                      Leegality\\n5.0   \n",
       "89  Marktine Technology Solutions\\n4.7   \n",
       "\n",
       "                                   job title location  \\\n",
       "0         Python Developer (Oddo Experience)   Remote   \n",
       "1     Remote Python/Django & React Developer   Remote   \n",
       "2                           Python Developer   Remote   \n",
       "3                       Sr. Python Developer   Remote   \n",
       "4                           Python Developer   Remote   \n",
       "..                                       ...      ...   \n",
       "85                         Back-end Engineer   Remote   \n",
       "86  Associate Software Engineer - Extraction   Remote   \n",
       "87                   Senior Python Developer   Remote   \n",
       "88                          Python Developer   Remote   \n",
       "89                          Python Developer   Remote   \n",
       "\n",
       "                                      job description  \n",
       "0   We are a growing medium-sized business with he...  \n",
       "1   We are looking for a skilled and experienced r...  \n",
       "2   What you’ll work on\\nWorking with the Team in ...  \n",
       "3   Job Title: Senior Python Developer\\nLocation: ...  \n",
       "4   We are looking for a candidate who can support...  \n",
       "..                                                ...  \n",
       "85  DiligenceVault is a cloud-based digital dilige...  \n",
       "86  Wiser provides unparalleled consumer insights ...  \n",
       "87  Job Description\\nTecholution is looking out fo...  \n",
       "88  This is a remote position.\\nCompany Mission\\n\\...  \n",
       "89  Job Information\\nIndustry\\nIT Services\\nRemote...  \n",
       "\n",
       "[90 rows x 4 columns]"
      ]
     },
     "execution_count": 14,
     "metadata": {},
     "output_type": "execute_result"
    }
   ],
   "source": [
    "df"
   ]
  },
  {
   "cell_type": "code",
   "execution_count": 15,
   "id": "2da19e41",
   "metadata": {},
   "outputs": [
    {
     "data": {
      "text/plain": [
       "90"
      ]
     },
     "execution_count": 15,
     "metadata": {},
     "output_type": "execute_result"
    }
   ],
   "source": [
    "len(df)"
   ]
  },
  {
   "cell_type": "code",
   "execution_count": 16,
   "id": "97617b33",
   "metadata": {},
   "outputs": [
    {
     "data": {
      "text/plain": [
       "\"We are looking for a developer who is having minimum 5 years of experience in below technologies:-\\nSkills- Pyhton, Teradata, Gcp, Cloud composer/Airflow, Bigquery\\nTime- 2 hrs 3 days and 4 hrs 2 days in a week total 14 hrs in a week (monday to friday)\\n5 pm ist\\nBudget - 24k monthly\\nNature of work:- Remote work over zoom\\nJob Types: Part-time, Freelance\\nContract length: 6 months\\nPart-time hours: 14 per week\\nSalary: ₹24,000.00 per month\\nBenefits:\\nWork from home\\nSchedule:\\nEvening shift\\nMonday to Friday\\nMorning shift\\nUS shift\\nSupplemental pay types:\\nOvertime pay\\nEducation:\\nBachelor's (Preferred)\\nExperience:\\nJava: 5 years (Required)\\nGcp: 4 years (Required)\\ntotal work: 5 years (Required)\\nLicense/Certification:\\nPython (Required)\\nShow Less\\nReport\""
      ]
     },
     "execution_count": 16,
     "metadata": {},
     "output_type": "execute_result"
    }
   ],
   "source": [
    "df[\"job description\"][5]"
   ]
  },
  {
   "cell_type": "code",
   "execution_count": 17,
   "id": "9009256e",
   "metadata": {},
   "outputs": [
    {
     "name": "stdout",
     "output_type": "stream",
     "text": [
      "                               company  \\\n",
      "0                          PST.AG\\n4.5   \n",
      "1                     Clark Technology   \n",
      "2                              Oneplay   \n",
      "3                   American Chase LLP   \n",
      "4          Vienna Consultancy Services   \n",
      "..                                 ...   \n",
      "85                 DiligenceVault\\n3.8   \n",
      "86                Wiser Solutions\\n4.4   \n",
      "87                    Techolution\\n4.4   \n",
      "88                      Leegality\\n5.0   \n",
      "89  Marktine Technology Solutions\\n4.7   \n",
      "\n",
      "                                   job title location  \\\n",
      "0         Python Developer (Oddo Experience)   Remote   \n",
      "1     Remote Python/Django & React Developer   Remote   \n",
      "2                           Python Developer   Remote   \n",
      "3                       Sr. Python Developer   Remote   \n",
      "4                           Python Developer   Remote   \n",
      "..                                       ...      ...   \n",
      "85                         Back-end Engineer   Remote   \n",
      "86  Associate Software Engineer - Extraction   Remote   \n",
      "87                   Senior Python Developer   Remote   \n",
      "88                          Python Developer   Remote   \n",
      "89                          Python Developer   Remote   \n",
      "\n",
      "                                      job description  \n",
      "0   We are a growing medium-sized business with he...  \n",
      "1   We are looking for a skilled and experienced r...  \n",
      "2   What you’ll work on\\nWorking with the Team in ...  \n",
      "3   Job Title: Senior Python Developer\\nLocation: ...  \n",
      "4   We are looking for a candidate who can support...  \n",
      "..                                                ...  \n",
      "85  DiligenceVault is a cloud-based digital dilige...  \n",
      "86  Wiser provides unparalleled consumer insights ...  \n",
      "87  Job Description\\nTecholution is looking out fo...  \n",
      "88  This is a remote position.\\nCompany Mission\\n\\...  \n",
      "89  Job Information\\nIndustry\\nIT Services\\nRemote...  \n",
      "\n",
      "[90 rows x 4 columns]\n"
     ]
    }
   ],
   "source": [
    "print(df)"
   ]
  },
  {
   "cell_type": "code",
   "execution_count": 18,
   "id": "ffd8058a",
   "metadata": {},
   "outputs": [
    {
     "data": {
      "text/plain": [
       "'We are looking for a candidate who can support us for 8 hours a day over fixed schedules with the below mentioned requirements.\\nTitle - Python Developer\\nJob Type : Contract\\nWork Type: Remote\\nContract tenure - 06 months\\nWork Days : Monday - Friday.\\nTimings: 10:30 am - 07:30 pm IST\\nExprience: 4-7 Years\\nRequired Qualifications:·\\nKnowledge of Python web frameworks and event-driven programming in Python\\nBasic understanding of front-end technologies\\nHigh attention to detail\\nExcellent communication in English and problem-solving skills\\nProficient understanding of code versioning tools\\nSecurity background or basic 101 type understanding\\nGood understanding of server-side templating languages\\nStrong unit test and debugging skills\\nMachine Learning Skills\\nBasic knowledge of front-end technologies, such as HTML5, JavaScript and CSS3\\nKnowledge of Open source Main Libraries (OpenCV, PyTorch, Keras, TensorFlow, Caffe, Detectorn2, etc.\\nExperience in Object Detection and Recongnition projects\\nExperience in Sound / Noise Detection and Recognition projects\\nExperience in Mobile Apps development\\nJob Types: Contractual / Temporary, Freelance\\nContract length: 06 months\\nPay: Up to ₹100,000.00 per month\\nBenefits:\\nWork from home\\nSchedule:\\nDay shift\\nMorning shift\\nApplication Deadline: 29/11/2021\\nShow Less\\nReport'"
      ]
     },
     "execution_count": 18,
     "metadata": {},
     "output_type": "execute_result"
    }
   ],
   "source": [
    "df[\"job description\"][4]"
   ]
  },
  {
   "cell_type": "code",
   "execution_count": 19,
   "id": "4fd596e5",
   "metadata": {},
   "outputs": [
    {
     "name": "stdout",
     "output_type": "stream",
     "text": [
      "['MYsql', 'laravel', 'Django', 'Basic', 'basic', 'Python', 'Javascript']\n"
     ]
    }
   ],
   "source": [
    "import re\n",
    "\n",
    "#text = \"We are looking for a full-stack developer with experience in Java, Python, C++, C#, JavaScript, Go, Ruby, PHP, Node.js, React.js, Angular, Vue.js, Django, Laravel, Express, Spring, MySQL, PostgreSQL, MongoDB, Redis, Cassandra, and other SQL and NoSQL databases.\"\n",
    "text=df[\"job description\"][9]\n",
    "# Define regular expressions to match languages, frameworks, and databases\n",
    "language_regex = re.compile(r\"\\b(ada|algol|assembly|awk|bash|basic|c(\\+\\+|#)?|cobol|coffeescript|d|dart|delphi|elixir|elm|erlang|f#|fortran|go|groovy|haskell|html|java|javascript|julia|kotlin|lisp|lua|matlab|objective-c|ocaml|pascal|perl|php|powershell|prolog|python|r|ruby|rust|scala|scheme|scratch|shell|smalltalk|sql|swift|tcl|typescript|vb\\.net|visual basic|gin|graphTalk|icon|idl|io|j|jade|jscript|kixtart|labview|leda|livecode|lsl|m2001|maple|max/msp|mercury|mirah|monkey|msil|neko|nemerle|nxc|oberon|opencl|oz|pari/gp|pawn|pike|pure data|rebol|red|verilog|vhdl)\\b\", re.IGNORECASE)\n",
    "#language_regex = re.compile(r\"\\b(assembly|c(\\+\\+|#)?|clojure|html|html5|css|css3|cobol|dart|delphi|erlang|f#|go|groovy|haskell|java|javascript|julia|kotlin|lisp|lua|matlab|objective-c|pascal|perl|php|python|r|ruby|rust|scala|swift|typescript|verilog|vhdl)\\b\", re.IGNORECASE)\n",
    "#framework_regex = re.compile(r\"\\b(angular|backbone\\.js|cakephp|django|flask|svelte|jquery|ember\\.js|express|laravel|next\\.js|node\\.js|react\\.js|ruby on rails|spring|vue\\.js|yii)\\b\", re.IGNORECASE)\n",
    "framework_regex = re.compile(r\"\\b(angular|backbone\\.js|cakephp|cherrypy|cinder|conan|cppcms|django|docker|dropwizard|ember\\.js|express|falcon|flask|google cloud platform|google test|grails|h2o\\.ai|heroku|hibernate|hug|ibm cloud|apache hadoop|apache spark|apache tapestry|apache wicket|juce|keras|kubernetes|laravel|meteor|mxnet|next\\.js|node\\.js|nuxt\\.js|openframeworks|openstack|poco|play|pyramid|pytorch|qt|react\\.js|ruby on rails|sanic|scikit-learn|svelte|spark|spring|struts|tensorflow|theano|tornado|turboGears|vaadin|vue\\.js|wxWidgets|yii)\\b\", re.IGNORECASE)\n",
    "\n",
    "database_regex = re.compile(r\"\\b(cassandra|couchbase|couchdb|firebase|mongodb|ms sql|mysql|oracle|postgresql|redis|sqlite)\\b\", re.IGNORECASE)\n",
    "\n",
    "# Extract the languages, frameworks, and databases from the text\n",
    "languages = language_regex.findall(text)\n",
    "frameworks = framework_regex.findall(text)\n",
    "databases = database_regex.findall(text)\n",
    "\n",
    "unique_languages = list(set([lang[0] for lang in languages]))\n",
    "unique_frameworks = list(set(frameworks))\n",
    "unique_databases= list(set(databases))\n",
    "\n",
    "#print(unique_languages)print(unique_frameworks)\n",
    "#print(unique_databases)\n",
    "print(unique_databases+unique_frameworks+unique_languages)\n"
   ]
  },
  {
   "cell_type": "code",
   "execution_count": 20,
   "id": "13c389d8",
   "metadata": {},
   "outputs": [
    {
     "data": {
      "text/plain": [
       "90"
      ]
     },
     "execution_count": 20,
     "metadata": {},
     "output_type": "execute_result"
    }
   ],
   "source": [
    "len(df[\"job description\"])"
   ]
  },
  {
   "cell_type": "code",
   "execution_count": 21,
   "id": "ee0caf54",
   "metadata": {},
   "outputs": [
    {
     "name": "stdout",
     "output_type": "stream",
     "text": [
      "['Python']\n",
      "['Next.JS', 'Django', 'Python']\n",
      "['Redis', 'Flask', 'SQL', 'IO', 'Python']\n",
      "['PostgreSQL', 'MongoDB', 'MySQL', 'Flask', 'Google Cloud Platform', 'Django', 'HTML', 'JavaScript', 'Python']\n",
      "['PyTorch', 'Keras', 'TensorFlow', 'Basic', 'basic', 'JavaScript', 'Python']\n",
      "['Java', 'Python']\n",
      "['SQL', 'Python']\n",
      "['PostgreSQL', 'MySQL', 'Django', 'HTML', 'Python']\n",
      "['PostgreSQL', 'MySQL', 'Django', 'Docker', 'docker', 'FLASK', 'HTML', 'SQL', 'Python']\n",
      "['MYsql', 'laravel', 'Django', 'Basic', 'basic', 'Python', 'Javascript']\n",
      "['Python']\n",
      "['MongoDB', 'Laravel', 'Node.js', 'Flask', 'Angular', 'SQL', 'PHP', 'Python']\n",
      "['basic', 'Python']\n",
      "['Flask', 'Ember.js', 'HTML', 'Javascript', 'Python']\n",
      "['MongoDB', 'Flask', 'Django', 'Keras', 'Tensorflow', 'python', 'PYTHON', 'Python']\n",
      "['Flask', 'Django', 'Pyramid', 'JavaScript', 'Python']\n",
      "['Django', 'Python', 'R', 'Javascript', 'D', 'Java']\n",
      "['Flask', 'Django', 'Pyramid', 'JavaScript', 'Python']\n",
      "['Django', 'Python']\n",
      "['C', 'Python']\n",
      "['Flask', 'Django', 'd', 'JavaScript', 'Python']\n",
      "['MongoDB', 'express', 'Heroku', 'Node.Js', 'Node.js', 'node.js', 'PHP', 'Python', 'SQL', 'JavaScript', 'Go']\n",
      "['C', 'Java', 'Python']\n",
      "['Java', 'SQL', 'JavaScript', 'Python']\n",
      "['MySQL', 'Flask', 'Django', 'SQL', 'Python']\n",
      "['MySQL', 'Django', 'C', 'python']\n",
      "['Django', 'Angular', 'Typescript', 'JavaScript', 'Python']\n",
      "['PHP', 'Python']\n",
      "['Flask', 'Django', 'Python']\n",
      "['Redis', 'MongoDB', 'Laravel', 'Node.js', 'Angular', 'go', 'PHP', 'Python', 'HTML', 'SQL', 'GO', 'JavaScript']\n",
      "['Redis', 'Flask', 'SQL', 'IO', 'Python']\n",
      "['Flask', 'Django', 'Docker', 'basic', 'Python']\n",
      "['Node.js', 'Spring', 'Angular', 'Scala', 'Python', 'JAVA', 'JavaScript', 'HTML', 'Java', 'Go']\n",
      "['Django', 'OpenStack', 'C', 'JavaScript', 'Python']\n",
      "['Play', 'Struts', 'Hibernate', 'Sql', 'Perl', 'python', 'Shell', 'Java']\n",
      "['PostgreSQL', 'Django', 'Kubernetes', 'Docker', 'Python']\n",
      "['basic', 'Java', 'Python']\n",
      "['basic', 'Python']\n",
      "['MongoDB', 'MySQL', 'Google Cloud platform', 'go', 'PHP', 'Python', 'Ruby', 'Java']\n",
      "['Docker', 'C', 'Python']\n",
      "['MongoDB', 'Node.js', 'Express', 'HTML', 'Javascript', 'Python']\n",
      "['SQLite', 'MySQL', 'MongoDB', 'React.js', 'Django', 'Python']\n",
      "['Spark', 'Kubernetes', 'Java', 'SQL', 'Scala', 'Python']\n",
      "['HTML', 'Java', 'Python']\n",
      "['play', 'Docker', 'SQL', 'Java', 'Python']\n",
      "['C', 'python', 'SQL', 'powershell', 'd']\n",
      "['SQL', 'Python']\n",
      "['MongoDB', 'Tornado', 'Spark', 'Kubernetes', 'Django', 'Docker', 'SQL', 'Python']\n",
      "['Oracle', 'SQL', 'python', 'Java']\n",
      "['Django', 'go', 'Python']\n",
      "['python']\n",
      "['SQL', 'Python']\n",
      "['Spark', 'Shell', 'Python']\n",
      "['PostgreSQL', 'Redis', 'MongoDB', 'SQL', 'JavaScript', 'Python']\n",
      "['Django', 'Angular', 'HTML', 'SQL', 'JavaScript', 'Python']\n",
      "['MySQL', 'shell', 'Python']\n",
      "['MySQL', 'MongoDB', 'Node.js', 'PHP', 'Python', 'HTML', 'SQL', 'Java']\n",
      "['PostgreSQL', 'Cassandra', 'Spark', 'Kubernetes', 'spring', 'Spring', 'Docker', 'SQL', 'Java', 'Python']\n",
      "['MySQL', 'MongoDB', 'Angular', 'Laravel', 'Django', 'Docker', 'Node.js', 'Ruby on Rails', 'Ruby', 'PHP', 'Python', 'JavaScript', 'C', 'HTML', 'Java']\n",
      "['Redis', 'MongoDB', 'Vue.js', 'Angular', 'Laravel', 'Django', 'Express', 'Node.js', 'Docker', 'SQL', 'PHP', 'Python']\n",
      "['Redis', 'Flask', 'SQL', 'IO', 'Python']\n",
      "['Play', 'Struts', 'Hibernate', 'Sql', 'Perl', 'python', 'Shell', 'Java']\n",
      "['SQL', 'Python']\n",
      "['PostgreSQL', 'Cassandra', 'Spark', 'Kubernetes', 'spring', 'Spring', 'Docker', 'SQL', 'Java', 'Python']\n",
      "['PostgreSQL', 'Redis', 'MongoDB', 'SQL', 'JavaScript', 'Python']\n",
      "['play', 'Docker', 'SQL', 'Java', 'Python']\n",
      "['MySQL', 'MongoDB', 'Angular', 'Laravel', 'Django', 'Docker', 'Node.js', 'Ruby on Rails', 'Ruby', 'PHP', 'Python', 'JavaScript', 'C', 'HTML', 'Java']\n",
      "['MongoDB', 'Node.js', 'Express', 'HTML', 'Javascript', 'Python']\n",
      "['Basic', 'basic', 'Python']\n",
      "['Django', 'Python']\n",
      "['play', 'R', 'SQL', 'D', 'Python']\n",
      "['MySQL', 'Java', 'PHP', 'Python', 'JavaScript', 'HTML', 'SQL', 'Ruby']\n",
      "['MySQL', 'MongoDB', 'Node.js', 'PHP', 'Python', 'HTML', 'SQL', 'Java']\n",
      "['Google Cloud Platform', 'Kubernetes', 'Spring', 'Docker', 'JavaScript', 'Java', 'Go', 'Python']\n",
      "['Django', 'Docker', 'Bash', 'basic', 'Python', 'Perl']\n",
      "['HTML', 'Java', 'Python']\n",
      "['Flask', 'express', 'Django', 'SQL', 'Javascript', 'Python']\n",
      "['Kubernetes', 'Docker', 'PHP', 'Python', 'C', 'Javascript', 'Java']\n",
      "['Django', 'go', 'Python']\n",
      "['Django', 'Docker', 'python', 'go', 'Python']\n",
      "['Redis', 'MongoDB', 'Vue.js', 'Angular', 'Laravel', 'Express', 'Node.js', 'Docker', 'PHP', 'Python', 'Typescript', 'SQL', 'JavaScript']\n",
      "['scratch', 'SQL', 'Java', 'Python']\n",
      "['MongoDB', 'MySQL', 'Node.js', 'Angular', 'Java', 'Python', 'C', 'HTML', 'JavaScript', 'd']\n",
      "['Flask', 'Django', 'docker', 'Angular', 'python', 'Python']\n",
      "['Oracle', 'Redis', 'MySQL', 'Kubernetes', 'Docker', 'SQL', 'python', 'Java', 'Python']\n",
      "['Redis', 'vue.js', 'python', 'Python']\n",
      "['Angular', 'Python', 'C', 'HTML', 'SQL', 'JavaScript']\n",
      "['PostgreSQL', 'Oracle', 'MS SQL', 'MySQL', 'SQL', 'Python']\n",
      "['MongoDB', 'MySQL', 'Flask', 'Django', 'basic', 'Python']\n",
      "['MongoDB', 'Django', 'docker', 'Python', 'SQl', 'SQL', 'python', 'sql']\n"
     ]
    }
   ],
   "source": [
    "for i in range(len(df[\"job description\"])):\n",
    "    text=df[\"job description\"][i]\n",
    "# Define regular expressions to match languages, frameworks, and databases\n",
    "    language_regex = re.compile(r\"\\b(ada|algol|assembly|awk|bash|basic|c(\\+\\+|#)?|cobol|coffeescript|d|dart|delphi|elixir|elm|erlang|f#|fortran|go|groovy|haskell|html|java|javascript|julia|kotlin|lisp|lua|matlab|objective-c|ocaml|pascal|perl|php|powershell|prolog|python|r|ruby|rust|scala|scheme|scratch|shell|smalltalk|sql|swift|tcl|typescript|vb\\.net|visual basic|gin|graphTalk|icon|idl|io|j|jade|jscript|kixtart|labview|leda|livecode|lsl|m2001|maple|max/msp|mercury|mirah|monkey|msil|neko|nemerle|nxc|oberon|opencl|oz|pari/gp|pawn|pike|pure data|rebol|red|verilog|vhdl)\\b\", re.IGNORECASE)\n",
    "    #language_regex = re.compile(r\"\\b(assembly|c(\\+\\+|#)?|clojure|html|html5|css|css3|cobol|dart|delphi|erlang|f#|go|groovy|haskell|java|javascript|julia|kotlin|lisp|lua|matlab|objective-c|pascal|perl|php|python|r|ruby|rust|scala|swift|typescript|verilog|vhdl)\\b\", re.IGNORECASE)\n",
    "    #framework_regex = re.compile(r\"\\b(angular|backbone\\.js|cakephp|django|flask|svelte|jquery|ember\\.js|express|laravel|next\\.js|node\\.js|react\\.js|ruby on rails|spring|vue\\.js|yii)\\b\", re.IGNORECASE)\n",
    "    framework_regex = re.compile(r\"\\b(angular|backbone\\.js|cakephp|cherrypy|cinder|conan|cppcms|django|docker|dropwizard|ember\\.js|express|falcon|flask|google cloud platform|google test|grails|h2o\\.ai|heroku|hibernate|hug|ibm cloud|apache hadoop|apache spark|apache tapestry|apache wicket|juce|keras|kubernetes|laravel|meteor|mxnet|next\\.js|node\\.js|nuxt\\.js|openframeworks|openstack|poco|play|pyramid|pytorch|qt|react\\.js|ruby on rails|sanic|scikit-learn|svelte|spark|spring|struts|tensorflow|theano|tornado|turboGears|vaadin|vue\\.js|wxWidgets|yii)\\b\", re.IGNORECASE)\n",
    "\n",
    "    database_regex = re.compile(r\"\\b(cassandra|couchbase|couchdb|firebase|mongodb|ms sql|mysql|oracle|postgresql|redis|sqlite)\\b\", re.IGNORECASE)\n",
    "\n",
    "    # Extract the languages, frameworks, and databases from the text\n",
    "    languages = language_regex.findall(text)\n",
    "    frameworks = framework_regex.findall(text)\n",
    "    databases = database_regex.findall(text)\n",
    "\n",
    "    unique_languages = list(set([lang[0] for lang in languages]))\n",
    "    unique_frameworks = list(set(frameworks))\n",
    "    unique_databases= list(set(databases))\n",
    "\n",
    "    #print(unique_languages)print(unique_frameworks)\n",
    "    #print(unique_databases)\n",
    "    print(unique_databases+unique_frameworks+unique_languages)\n",
    "    "
   ]
  },
  {
   "cell_type": "code",
   "execution_count": 22,
   "id": "3dee55bc",
   "metadata": {},
   "outputs": [
    {
     "data": {
      "text/plain": [
       "'Experience : 1 - 4 years\\nSkills : OOPS Concept, Python, Django, HTML, CSS\\nJob Location : Work From Home\\nPrimary Responsibilities Include:\\nDesign and develop software for medium and large-scale enterprise services.\\nTranslate functional requirements into conceptual and detailed designs.\\nDevelop REST API using DRF.\\nAssist Operations and Support staff in trouble-shooting software issues, implementing bug fixes.\\nAdhere to coding and process best practices.\\nRequired Skills and Experience:\\n2-5 years of experience in software development using Python Django and Django REST.\\nLinux systems experience Strong development and engineering principles, including: code coverage, test-first programming.\\nCode readability, documentation, understanding of revision control systems (git).\\nExperience with Agile methodologies (Scrum, Kanban, etc.).\\nExperience with one or more relational databases (e.g. MySQL, PostgreSQL).\\nFamiliarity with continuous integration and continuous deployment concepts.\\nShow Less\\nReport'"
      ]
     },
     "execution_count": 22,
     "metadata": {},
     "output_type": "execute_result"
    }
   ],
   "source": [
    "df[\"job description\"][7]"
   ]
  },
  {
   "cell_type": "code",
   "execution_count": 23,
   "id": "b4781239",
   "metadata": {},
   "outputs": [
    {
     "name": "stderr",
     "output_type": "stream",
     "text": [
      "2023-04-26 11:06:54.216160: I tensorflow/tsl/cuda/cudart_stub.cc:28] Could not find cuda drivers on your machine, GPU will not be used.\n",
      "2023-04-26 11:06:54.410636: I tensorflow/tsl/cuda/cudart_stub.cc:28] Could not find cuda drivers on your machine, GPU will not be used.\n",
      "2023-04-26 11:06:54.413534: I tensorflow/core/platform/cpu_feature_guard.cc:182] This TensorFlow binary is optimized to use available CPU instructions in performance-critical operations.\n",
      "To enable the following instructions: AVX2 FMA, in other operations, rebuild TensorFlow with the appropriate compiler flags.\n",
      "2023-04-26 11:06:55.176129: W tensorflow/compiler/tf2tensorrt/utils/py_utils.cc:38] TF-TRT Warning: Could not find TensorRT\n",
      "2023-04-26 11:06:57.411888: E tensorflow/compiler/xla/stream_executor/cuda/cuda_driver.cc:266] failed call to cuInit: CUDA_ERROR_NO_DEVICE: no CUDA-capable device is detected\n"
     ]
    }
   ],
   "source": [
    "import spacy"
   ]
  },
  {
   "cell_type": "code",
   "execution_count": 24,
   "id": "136a80c5",
   "metadata": {},
   "outputs": [],
   "source": [
    "#pip install spacy\n"
   ]
  },
  {
   "cell_type": "code",
   "execution_count": 25,
   "id": "0c7b851a",
   "metadata": {},
   "outputs": [],
   "source": [
    "nlp=spacy.load(\"en_core_web_sm\")"
   ]
  },
  {
   "cell_type": "code",
   "execution_count": 26,
   "id": "b58c328b",
   "metadata": {},
   "outputs": [
    {
     "data": {
      "text/plain": [
       "['tok2vec', 'tagger', 'parser', 'attribute_ruler', 'lemmatizer', 'ner']"
      ]
     },
     "execution_count": 26,
     "metadata": {},
     "output_type": "execute_result"
    }
   ],
   "source": [
    "nlp.pipe_names"
   ]
  },
  {
   "cell_type": "code",
   "execution_count": 27,
   "id": "c5f5c061",
   "metadata": {},
   "outputs": [
    {
     "name": "stdout",
     "output_type": "stream",
     "text": [
      "Weimar   GPE\n",
      "Germany   GPE\n",
      "Scrapy   ORG\n",
      "Pandas   PERSON\n",
      "applicationss   PERSON\n",
      "Fluency   GPE\n",
      "English   LANGUAGE\n",
      "Computer Science   FAC\n",
      "Agile   NORP\n",
      "At least 3 years   DATE\n",
      "XPath   ORG\n",
      "CSS   ORG\n",
      "JSON   GPE\n",
      "XML   ORG\n",
      "Selenium   ORG\n",
      "Beautiful-Soup   ORG\n",
      "Pandas   PERSON\n",
      "Software Company\n",
      "Employment Type: Full-Time   ORG\n",
      "40 Hours   TIME\n",
      "Working Language:   WORK_OF_ART\n",
      "English   LANGUAGE\n",
      "Show Less\n",
      "Report   WORK_OF_ART\n"
     ]
    }
   ],
   "source": [
    "doc=nlp(df[\"job description\"][0])\n",
    "#doc=nlp(\"Hello iam Ajay. Iam Software Engineer who is experienced in python and ML and is currently working in Amazon. Iused to work at PrevalentAi before.\")\n",
    "#doc=nlp(\"Save me Iam tuck in the floods at London my phone no is 9446581801\")\n",
    "for ent in doc.ents:\n",
    "    print(ent.text, \" \", ent.label_)\n"
   ]
  },
  {
   "cell_type": "code",
   "execution_count": 28,
   "id": "a209f984",
   "metadata": {},
   "outputs": [
    {
     "data": {
      "text/plain": [
       "'Location: Remote\\nExperiance:\\n5-10 years\\nDescription :\\nBuilding fast, responsive web applications is the responsibility of the Python developer we are looking for. In order to create the back-end components, incorporate the front-end components into the application, and control the data exchange between the server and the users, the ideal candidate should be very skilled at writing clean, testable, and scalable code. The developer should cooperate with front-end developers and have a basic understanding of front-end technologies.\\nCreate and implement applications with low latency, high availability, and high performance.\\nCreate scalable, testable, reusable, and efficient code.\\nWork with front-end developers to combine user-facing components with server-side logic.\\nIntegrate data to create insights that will help you make decisions more quickly and effectively.\\nupdating current databases to increase functionality\\nOrganize and produce tools, strategies, and data pipeline documentation.\\nShow Less\\nReport'"
      ]
     },
     "execution_count": 28,
     "metadata": {},
     "output_type": "execute_result"
    }
   ],
   "source": [
    "df[\"job description\"][12]"
   ]
  },
  {
   "cell_type": "code",
   "execution_count": null,
   "id": "9158cdd3",
   "metadata": {},
   "outputs": [],
   "source": []
  },
  {
   "cell_type": "code",
   "execution_count": null,
   "id": "f9654f6f",
   "metadata": {},
   "outputs": [],
   "source": []
  },
  {
   "cell_type": "code",
   "execution_count": null,
   "id": "73bd6ba2",
   "metadata": {},
   "outputs": [],
   "source": []
  }
 ],
 "metadata": {
  "kernelspec": {
   "display_name": "Python 3 (ipykernel)",
   "language": "python",
   "name": "python3"
  },
  "language_info": {
   "codemirror_mode": {
    "name": "ipython",
    "version": 3
   },
   "file_extension": ".py",
   "mimetype": "text/x-python",
   "name": "python",
   "nbconvert_exporter": "python",
   "pygments_lexer": "ipython3",
   "version": "3.8.10"
  }
 },
 "nbformat": 4,
 "nbformat_minor": 5
}
